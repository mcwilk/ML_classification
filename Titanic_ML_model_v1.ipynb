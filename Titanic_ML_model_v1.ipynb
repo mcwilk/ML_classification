{
 "cells": [
  {
   "cell_type": "markdown",
   "metadata": {},
   "source": [
    "# Titanic Dataset  - ML Classification Model\n",
    "\n",
    "## Intro\n",
    "\n",
    "Poniższe opracowanie wykonano w oparciu o jeden z najpopularniejszych zbiorów danych dostępnych na platformie _kaggle.com_. Dotyczy on katastrofy Titanica i zawiera informacje nt. poszczególnych pasażerów, tj. m.in. tego czy dany pasażer przeżył katastrofę, jaką klasą podróżował, skąd wyruszył itp. Na jego podstawie przygotowano model uczenia maszynowego, który dokonuje klasyfikacji pasażerów na dwie grupy:\n",
    "\n",
    "- pasażer przeżył katastrofę (1)\n",
    "- pasażer nie przeżył katastrofy (0)\n",
    "\n",
    "Jest to przykład uczenia nadzorowanego (ang. supervised learning). Pierwotny zbiór danych jest podzielony na dwa podzbiory: \n",
    "- treningowy - użyto go do wytrenowania oraz walidacji modelu\n",
    "- testowy - użyto go do wykonania prognozy \n",
    "\n",
    "#### Kolumny zbioru danych:\n",
    "\n",
    "    Survived  -  Survival (0 = No, 1 = Yes)\n",
    "    Pclass  -  Ticket class (1 = 1st, 2 = 2nd, 3 = 3rd)\n",
    "    Name - name, surename, title\n",
    "    Sex  -  gender\n",
    "    Age  -  Age in years\n",
    "    SibSp  -  Number of siblings / spouses aboard the Titanic\n",
    "    Parch  -  Number of parents / children aboard the Titanic\n",
    "    Ticket  -  Ticket number\n",
    "    Fare  -  Passenger fare (price)\n",
    "    Cabin  -  Cabin number\n",
    "    Embarked  -  Port of embarkation (C = Cherbourg, Q = Queenstown, S = Southampton)\n",
    "\n",
    "#### Etapy projektu:\n",
    "1. Environment Configuration - konfiguracja środowiska projektu\n",
    "\n",
    "2. Data Exploration - analiza struktury danych, wizualizacja, próba znalezienia korelacji\n",
    "\n",
    "3. Feature Engineering & Data Cleaning - preprocessing zbioru treningowego (dobór cech dla modelu, standaryzacja, normalizacja, usunięcie braków danych itp.)\n",
    "\n",
    "4. Model Building: K-Fold Cross Validation - budowa modelu ML w oparciu o algorytmy klasyfikacyjne oraz walidację krzyżową; ocena jakości modeli\n",
    "\n",
    "5. Parameters tuning - dobór hiperparametrów modeli w celu zwiększenia jakości\n",
    "\n",
    "6. Insights From Models - wnioski nt uzyskanych wyników\n",
    "\n",
    "7. Test Dataset Prediction - prognoza dla testowego zbioru danych\n",
    "\n",
    "8. Results - eksport wyników, zapis modeli"
   ]
  },
  {
   "cell_type": "markdown",
   "metadata": {},
   "source": [
    "## 1. Environment Configuration"
   ]
  },
  {
   "cell_type": "code",
   "execution_count": 1,
   "metadata": {},
   "outputs": [],
   "source": [
    "# Moduły podstawowe\n",
    "import math\n",
    "import numpy as np\n",
    "import pandas as pd\n",
    "import matplotlib.pyplot as plt\n",
    "import seaborn as sns"
   ]
  },
  {
   "cell_type": "code",
   "execution_count": 2,
   "metadata": {},
   "outputs": [],
   "source": [
    "# Ustawienia wyświetlania\n",
    "pd.set_option('display.max_columns', 50)\n",
    "pd.set_option('precision', 2)\n",
    "%matplotlib inline"
   ]
  },
  {
   "cell_type": "markdown",
   "metadata": {},
   "source": [
    "## 2. Data Exploration\n",
    "#### Ładowanie danych do DataFrame:\n",
    "\n",
    "Zbiór treningowy zostanie wykorzystany do uczenia modeli oraz ich walidacji. \n",
    "Zbiór testowy zostanie wykorzystany do uzyskania prognoz za pomocą utworzonych modeli."
   ]
  },
  {
   "cell_type": "code",
   "execution_count": 3,
   "metadata": {},
   "outputs": [],
   "source": [
    "# zbiór treningowy\n",
    "X_full = pd.read_csv('./Titanic_dataset/train.csv', index_col='PassengerId')\n",
    "\n",
    "# zbiór testowy\n",
    "X_test_full = pd.read_csv('./Titanic_dataset/test.csv', index_col='PassengerId')"
   ]
  },
  {
   "cell_type": "markdown",
   "metadata": {},
   "source": [
    "#### Rzut oka na strukturę danych:"
   ]
  },
  {
   "cell_type": "code",
   "execution_count": 4,
   "metadata": {},
   "outputs": [
    {
     "data": {
      "text/html": [
       "<div>\n",
       "<style scoped>\n",
       "    .dataframe tbody tr th:only-of-type {\n",
       "        vertical-align: middle;\n",
       "    }\n",
       "\n",
       "    .dataframe tbody tr th {\n",
       "        vertical-align: top;\n",
       "    }\n",
       "\n",
       "    .dataframe thead th {\n",
       "        text-align: right;\n",
       "    }\n",
       "</style>\n",
       "<table border=\"1\" class=\"dataframe\">\n",
       "  <thead>\n",
       "    <tr style=\"text-align: right;\">\n",
       "      <th></th>\n",
       "      <th>Survived</th>\n",
       "      <th>Pclass</th>\n",
       "      <th>Name</th>\n",
       "      <th>Sex</th>\n",
       "      <th>Age</th>\n",
       "      <th>SibSp</th>\n",
       "      <th>Parch</th>\n",
       "      <th>Ticket</th>\n",
       "      <th>Fare</th>\n",
       "      <th>Cabin</th>\n",
       "      <th>Embarked</th>\n",
       "    </tr>\n",
       "    <tr>\n",
       "      <th>PassengerId</th>\n",
       "      <th></th>\n",
       "      <th></th>\n",
       "      <th></th>\n",
       "      <th></th>\n",
       "      <th></th>\n",
       "      <th></th>\n",
       "      <th></th>\n",
       "      <th></th>\n",
       "      <th></th>\n",
       "      <th></th>\n",
       "      <th></th>\n",
       "    </tr>\n",
       "  </thead>\n",
       "  <tbody>\n",
       "    <tr>\n",
       "      <td>1</td>\n",
       "      <td>0</td>\n",
       "      <td>3</td>\n",
       "      <td>Braund, Mr. Owen Harris</td>\n",
       "      <td>male</td>\n",
       "      <td>22.0</td>\n",
       "      <td>1</td>\n",
       "      <td>0</td>\n",
       "      <td>A/5 21171</td>\n",
       "      <td>7.25</td>\n",
       "      <td>NaN</td>\n",
       "      <td>S</td>\n",
       "    </tr>\n",
       "    <tr>\n",
       "      <td>2</td>\n",
       "      <td>1</td>\n",
       "      <td>1</td>\n",
       "      <td>Cumings, Mrs. John Bradley (Florence Briggs Th...</td>\n",
       "      <td>female</td>\n",
       "      <td>38.0</td>\n",
       "      <td>1</td>\n",
       "      <td>0</td>\n",
       "      <td>PC 17599</td>\n",
       "      <td>71.28</td>\n",
       "      <td>C85</td>\n",
       "      <td>C</td>\n",
       "    </tr>\n",
       "    <tr>\n",
       "      <td>3</td>\n",
       "      <td>1</td>\n",
       "      <td>3</td>\n",
       "      <td>Heikkinen, Miss. Laina</td>\n",
       "      <td>female</td>\n",
       "      <td>26.0</td>\n",
       "      <td>0</td>\n",
       "      <td>0</td>\n",
       "      <td>STON/O2. 3101282</td>\n",
       "      <td>7.92</td>\n",
       "      <td>NaN</td>\n",
       "      <td>S</td>\n",
       "    </tr>\n",
       "    <tr>\n",
       "      <td>4</td>\n",
       "      <td>1</td>\n",
       "      <td>1</td>\n",
       "      <td>Futrelle, Mrs. Jacques Heath (Lily May Peel)</td>\n",
       "      <td>female</td>\n",
       "      <td>35.0</td>\n",
       "      <td>1</td>\n",
       "      <td>0</td>\n",
       "      <td>113803</td>\n",
       "      <td>53.10</td>\n",
       "      <td>C123</td>\n",
       "      <td>S</td>\n",
       "    </tr>\n",
       "    <tr>\n",
       "      <td>5</td>\n",
       "      <td>0</td>\n",
       "      <td>3</td>\n",
       "      <td>Allen, Mr. William Henry</td>\n",
       "      <td>male</td>\n",
       "      <td>35.0</td>\n",
       "      <td>0</td>\n",
       "      <td>0</td>\n",
       "      <td>373450</td>\n",
       "      <td>8.05</td>\n",
       "      <td>NaN</td>\n",
       "      <td>S</td>\n",
       "    </tr>\n",
       "  </tbody>\n",
       "</table>\n",
       "</div>"
      ],
      "text/plain": [
       "             Survived  Pclass  \\\n",
       "PassengerId                     \n",
       "1                   0       3   \n",
       "2                   1       1   \n",
       "3                   1       3   \n",
       "4                   1       1   \n",
       "5                   0       3   \n",
       "\n",
       "                                                          Name     Sex   Age  \\\n",
       "PassengerId                                                                    \n",
       "1                                      Braund, Mr. Owen Harris    male  22.0   \n",
       "2            Cumings, Mrs. John Bradley (Florence Briggs Th...  female  38.0   \n",
       "3                                       Heikkinen, Miss. Laina  female  26.0   \n",
       "4                 Futrelle, Mrs. Jacques Heath (Lily May Peel)  female  35.0   \n",
       "5                                     Allen, Mr. William Henry    male  35.0   \n",
       "\n",
       "             SibSp  Parch            Ticket   Fare Cabin Embarked  \n",
       "PassengerId                                                        \n",
       "1                1      0         A/5 21171   7.25   NaN        S  \n",
       "2                1      0          PC 17599  71.28   C85        C  \n",
       "3                0      0  STON/O2. 3101282   7.92   NaN        S  \n",
       "4                1      0            113803  53.10  C123        S  \n",
       "5                0      0            373450   8.05   NaN        S  "
      ]
     },
     "execution_count": 4,
     "metadata": {},
     "output_type": "execute_result"
    }
   ],
   "source": [
    "X_full.head()"
   ]
  },
  {
   "cell_type": "code",
   "execution_count": 5,
   "metadata": {},
   "outputs": [
    {
     "name": "stdout",
     "output_type": "stream",
     "text": [
      "(891, 11)\n",
      "<class 'pandas.core.frame.DataFrame'>\n",
      "Int64Index: 891 entries, 1 to 891\n",
      "Data columns (total 11 columns):\n",
      "Survived    891 non-null int64\n",
      "Pclass      891 non-null int64\n",
      "Name        891 non-null object\n",
      "Sex         891 non-null object\n",
      "Age         714 non-null float64\n",
      "SibSp       891 non-null int64\n",
      "Parch       891 non-null int64\n",
      "Ticket      891 non-null object\n",
      "Fare        891 non-null float64\n",
      "Cabin       204 non-null object\n",
      "Embarked    889 non-null object\n",
      "dtypes: float64(2), int64(4), object(5)\n",
      "memory usage: 83.5+ KB\n"
     ]
    }
   ],
   "source": [
    "print(X_full.shape)\n",
    "X_full.info()"
   ]
  },
  {
   "cell_type": "markdown",
   "metadata": {},
   "source": [
    "Zbiór treningowy składa się z 891 obserwacji i 11 atrybutów, co oznacza, że jest on bardzo mały jak na standardy uczenia maszynowego. Wyraźnie widać, że atrybut _Cabin_ zawiera jedynie 204 wartości niezerowe, co oznacza, że cecha ta nie została zdefiniowana dla blisko 80% obserwacji. Braki danych zawierają ponadto atrybuty _Age_ i _Embarked_, ale nie są one tak znaczące.\n",
    "\n",
    "W związku z powyższym od razu zdecydowano się usunąć kolumnę _Cabin_ ze zbioru treningowego."
   ]
  },
  {
   "cell_type": "code",
   "execution_count": 6,
   "metadata": {},
   "outputs": [],
   "source": [
    "# Usunięcie kolumny \"Cabin\" ze względu na przeważającą ilość braków danych\n",
    "X_full.drop(columns=['Cabin'], inplace=True)"
   ]
  },
  {
   "cell_type": "code",
   "execution_count": 7,
   "metadata": {},
   "outputs": [
    {
     "data": {
      "text/html": [
       "<div>\n",
       "<style scoped>\n",
       "    .dataframe tbody tr th:only-of-type {\n",
       "        vertical-align: middle;\n",
       "    }\n",
       "\n",
       "    .dataframe tbody tr th {\n",
       "        vertical-align: top;\n",
       "    }\n",
       "\n",
       "    .dataframe thead th {\n",
       "        text-align: right;\n",
       "    }\n",
       "</style>\n",
       "<table border=\"1\" class=\"dataframe\">\n",
       "  <thead>\n",
       "    <tr style=\"text-align: right;\">\n",
       "      <th></th>\n",
       "      <th>Survived</th>\n",
       "      <th>Pclass</th>\n",
       "      <th>Age</th>\n",
       "      <th>SibSp</th>\n",
       "      <th>Parch</th>\n",
       "      <th>Fare</th>\n",
       "    </tr>\n",
       "  </thead>\n",
       "  <tbody>\n",
       "    <tr>\n",
       "      <td>count</td>\n",
       "      <td>891.00</td>\n",
       "      <td>891.00</td>\n",
       "      <td>714.00</td>\n",
       "      <td>891.00</td>\n",
       "      <td>891.00</td>\n",
       "      <td>891.00</td>\n",
       "    </tr>\n",
       "    <tr>\n",
       "      <td>mean</td>\n",
       "      <td>0.38</td>\n",
       "      <td>2.31</td>\n",
       "      <td>29.70</td>\n",
       "      <td>0.52</td>\n",
       "      <td>0.38</td>\n",
       "      <td>32.20</td>\n",
       "    </tr>\n",
       "    <tr>\n",
       "      <td>std</td>\n",
       "      <td>0.49</td>\n",
       "      <td>0.84</td>\n",
       "      <td>14.53</td>\n",
       "      <td>1.10</td>\n",
       "      <td>0.81</td>\n",
       "      <td>49.69</td>\n",
       "    </tr>\n",
       "    <tr>\n",
       "      <td>min</td>\n",
       "      <td>0.00</td>\n",
       "      <td>1.00</td>\n",
       "      <td>0.42</td>\n",
       "      <td>0.00</td>\n",
       "      <td>0.00</td>\n",
       "      <td>0.00</td>\n",
       "    </tr>\n",
       "    <tr>\n",
       "      <td>25%</td>\n",
       "      <td>0.00</td>\n",
       "      <td>2.00</td>\n",
       "      <td>20.12</td>\n",
       "      <td>0.00</td>\n",
       "      <td>0.00</td>\n",
       "      <td>7.91</td>\n",
       "    </tr>\n",
       "    <tr>\n",
       "      <td>50%</td>\n",
       "      <td>0.00</td>\n",
       "      <td>3.00</td>\n",
       "      <td>28.00</td>\n",
       "      <td>0.00</td>\n",
       "      <td>0.00</td>\n",
       "      <td>14.45</td>\n",
       "    </tr>\n",
       "    <tr>\n",
       "      <td>75%</td>\n",
       "      <td>1.00</td>\n",
       "      <td>3.00</td>\n",
       "      <td>38.00</td>\n",
       "      <td>1.00</td>\n",
       "      <td>0.00</td>\n",
       "      <td>31.00</td>\n",
       "    </tr>\n",
       "    <tr>\n",
       "      <td>max</td>\n",
       "      <td>1.00</td>\n",
       "      <td>3.00</td>\n",
       "      <td>80.00</td>\n",
       "      <td>8.00</td>\n",
       "      <td>6.00</td>\n",
       "      <td>512.33</td>\n",
       "    </tr>\n",
       "  </tbody>\n",
       "</table>\n",
       "</div>"
      ],
      "text/plain": [
       "       Survived  Pclass     Age   SibSp   Parch    Fare\n",
       "count    891.00  891.00  714.00  891.00  891.00  891.00\n",
       "mean       0.38    2.31   29.70    0.52    0.38   32.20\n",
       "std        0.49    0.84   14.53    1.10    0.81   49.69\n",
       "min        0.00    1.00    0.42    0.00    0.00    0.00\n",
       "25%        0.00    2.00   20.12    0.00    0.00    7.91\n",
       "50%        0.00    3.00   28.00    0.00    0.00   14.45\n",
       "75%        1.00    3.00   38.00    1.00    0.00   31.00\n",
       "max        1.00    3.00   80.00    8.00    6.00  512.33"
      ]
     },
     "execution_count": 7,
     "metadata": {},
     "output_type": "execute_result"
    }
   ],
   "source": [
    "X_full.describe()"
   ]
  },
  {
   "cell_type": "markdown",
   "metadata": {},
   "source": [
    "#### Podział danych na numeryczne i kategoryczne:"
   ]
  },
  {
   "cell_type": "code",
   "execution_count": 8,
   "metadata": {},
   "outputs": [],
   "source": [
    "data_num = X_full[['Age', 'SibSp', 'Parch', 'Fare']]\n",
    "data_cat = X_full[['Survived', 'Pclass', 'Sex', 'Ticket', 'Embarked']]"
   ]
  },
  {
   "cell_type": "markdown",
   "metadata": {},
   "source": [
    "#### Wizualizacja danych\n",
    "#### - Dane numeryczne:"
   ]
  },
  {
   "cell_type": "code",
   "execution_count": 9,
   "metadata": {},
   "outputs": [
    {
     "data": {
      "image/png": "[encoded data removed]",
      "text/plain": [
       "<Figure size 1440x1080 with 4 Axes>"
      ]
     },
     "metadata": {
      "needs_background": "light"
     },
     "output_type": "display_data"
    }
   ],
   "source": [
    "# histogramy (rozkład ilościowy) danych numerycznych\n",
    "data_num.hist(figsize=(20,15))\n",
    "plt.show()"
   ]
  },
  {
   "cell_type": "markdown",
   "metadata": {},
   "source": [
    "Analizując powyższe rozkłady danych numerycznych widać, że jedynie atrybut _Age_ posiada rozkład zbliżony do rozkładu normalnego. Dla pozostałych atrybutów konieczna będzie ich modyfikacja, np. poprzez zastosowanie normalizacji."
   ]
  },
  {
   "cell_type": "code",
   "execution_count": 10,
   "metadata": {},
   "outputs": [
    {
     "data": {
      "text/html": [
       "<div>\n",
       "<style scoped>\n",
       "    .dataframe tbody tr th:only-of-type {\n",
       "        vertical-align: middle;\n",
       "    }\n",
       "\n",
       "    .dataframe tbody tr th {\n",
       "        vertical-align: top;\n",
       "    }\n",
       "\n",
       "    .dataframe thead th {\n",
       "        text-align: right;\n",
       "    }\n",
       "</style>\n",
       "<table border=\"1\" class=\"dataframe\">\n",
       "  <thead>\n",
       "    <tr style=\"text-align: right;\">\n",
       "      <th></th>\n",
       "      <th>Age</th>\n",
       "      <th>SibSp</th>\n",
       "      <th>Parch</th>\n",
       "      <th>Fare</th>\n",
       "    </tr>\n",
       "  </thead>\n",
       "  <tbody>\n",
       "    <tr>\n",
       "      <td>Age</td>\n",
       "      <td>1.00</td>\n",
       "      <td>-0.31</td>\n",
       "      <td>-0.19</td>\n",
       "      <td>0.10</td>\n",
       "    </tr>\n",
       "    <tr>\n",
       "      <td>SibSp</td>\n",
       "      <td>-0.31</td>\n",
       "      <td>1.00</td>\n",
       "      <td>0.41</td>\n",
       "      <td>0.16</td>\n",
       "    </tr>\n",
       "    <tr>\n",
       "      <td>Parch</td>\n",
       "      <td>-0.19</td>\n",
       "      <td>0.41</td>\n",
       "      <td>1.00</td>\n",
       "      <td>0.22</td>\n",
       "    </tr>\n",
       "    <tr>\n",
       "      <td>Fare</td>\n",
       "      <td>0.10</td>\n",
       "      <td>0.16</td>\n",
       "      <td>0.22</td>\n",
       "      <td>1.00</td>\n",
       "    </tr>\n",
       "  </tbody>\n",
       "</table>\n",
       "</div>"
      ],
      "text/plain": [
       "        Age  SibSp  Parch  Fare\n",
       "Age    1.00  -0.31  -0.19  0.10\n",
       "SibSp -0.31   1.00   0.41  0.16\n",
       "Parch -0.19   0.41   1.00  0.22\n",
       "Fare   0.10   0.16   0.22  1.00"
      ]
     },
     "execution_count": 10,
     "metadata": {},
     "output_type": "execute_result"
    }
   ],
   "source": [
    "# korelacje pomiędzy zmiennymi\n",
    "correlation = data_num.corr()\n",
    "correlation"
   ]
  },
  {
   "cell_type": "code",
   "execution_count": null,
   "metadata": {},
   "outputs": [],
   "source": [
    "sns.heatmap(correlation)"
   ]
  },
  {
   "cell_type": "markdown",
   "metadata": {},
   "source": [
    "Atrybuty numeryczne są ze sobą raczej słabo skorelowane. Najsilniejsza korelacja występuje pomiędzy atrybutami _SibSp_ i _Parch_ , które dotyczą ilości członków rodziny pasażerów na pokładzie."
   ]
  },
  {
   "cell_type": "code",
   "execution_count": 11,
   "metadata": {},
   "outputs": [
    {
     "data": {
      "text/html": [
       "<div>\n",
       "<style scoped>\n",
       "    .dataframe tbody tr th:only-of-type {\n",
       "        vertical-align: middle;\n",
       "    }\n",
       "\n",
       "    .dataframe tbody tr th {\n",
       "        vertical-align: top;\n",
       "    }\n",
       "\n",
       "    .dataframe thead th {\n",
       "        text-align: right;\n",
       "    }\n",
       "</style>\n",
       "<table border=\"1\" class=\"dataframe\">\n",
       "  <thead>\n",
       "    <tr style=\"text-align: right;\">\n",
       "      <th></th>\n",
       "      <th>Age</th>\n",
       "      <th>Fare</th>\n",
       "      <th>Parch</th>\n",
       "      <th>SibSp</th>\n",
       "    </tr>\n",
       "    <tr>\n",
       "      <th>Survived</th>\n",
       "      <th></th>\n",
       "      <th></th>\n",
       "      <th></th>\n",
       "      <th></th>\n",
       "    </tr>\n",
       "  </thead>\n",
       "  <tbody>\n",
       "    <tr>\n",
       "      <td>0</td>\n",
       "      <td>30.63</td>\n",
       "      <td>22.12</td>\n",
       "      <td>0.33</td>\n",
       "      <td>0.55</td>\n",
       "    </tr>\n",
       "    <tr>\n",
       "      <td>1</td>\n",
       "      <td>28.34</td>\n",
       "      <td>48.40</td>\n",
       "      <td>0.46</td>\n",
       "      <td>0.47</td>\n",
       "    </tr>\n",
       "  </tbody>\n",
       "</table>\n",
       "</div>"
      ],
      "text/plain": [
       "            Age   Fare  Parch  SibSp\n",
       "Survived                            \n",
       "0         30.63  22.12   0.33   0.55\n",
       "1         28.34  48.40   0.46   0.47"
      ]
     },
     "execution_count": 11,
     "metadata": {},
     "output_type": "execute_result"
    }
   ],
   "source": [
    "# Średnia zmiennych numerycznych w zależności od wskaźnika przeżywalności\n",
    "pd.pivot_table(X_full, index='Survived', values=data_num.columns)"
   ]
  },
  {
   "cell_type": "markdown",
   "metadata": {},
   "source": [
    "#### - Dane kategoryczne:"
   ]
  },
  {
   "cell_type": "code",
   "execution_count": 12,
   "metadata": {},
   "outputs": [
    {
     "data": {
      "image/png": "[encoded data removed]",
      "text/plain": [
       "<Figure size 432x288 with 1 Axes>"
      ]
     },
     "metadata": {
      "needs_background": "light"
     },
     "output_type": "display_data"
    },
    {
     "data": {
      "image/png": "[encoded data removed]",
      "text/plain": [
       "<Figure size 432x288 with 1 Axes>"
      ]
     },
     "metadata": {
      "needs_background": "light"
     },
     "output_type": "display_data"
    },
    {
     "data": {
      "image/png": "[encoded data removed]",
      "text/plain": [
       "<Figure size 432x288 with 1 Axes>"
      ]
     },
     "metadata": {
      "needs_background": "light"
     },
     "output_type": "display_data"
    },
    {
     "data": {
      "image/png": "[encoded data removed]",
      "text/plain": [
       "<Figure size 432x288 with 1 Axes>"
      ]
     },
     "metadata": {
      "needs_background": "light"
     },
     "output_type": "display_data"
    },
    {
     "data": {
      "image/png": "[encoded data removed]",
      "text/plain": [
       "<Figure size 432x288 with 1 Axes>"
      ]
     },
     "metadata": {
      "needs_background": "light"
     },
     "output_type": "display_data"
    }
   ],
   "source": [
    "# Podział ilościowy dla każdej z wartości danych kategorycznych\n",
    "for c in data_cat.columns:\n",
    "    data_cat[c].value_counts().plot(kind=\"bar\")\n",
    "    plt.title(c)\n",
    "    plt.show()"
   ]
  },
  {
   "cell_type": "markdown",
   "metadata": {},
   "source": [
    "Blisko 2/3 pasażerów znajdujących się na pokładzie nie przeżyło katastrofy. Ponad połowa z nich podróżowała klasą 3. Zdecydowaną większość stanowili mężczyźni, którzy rozpoczęli swoją podróż w porcie w Southampton."
   ]
  },
  {
   "cell_type": "code",
   "execution_count": 13,
   "metadata": {},
   "outputs": [
    {
     "data": {
      "image/png": "[encoded data removed]",
      "text/plain": [
       "<Figure size 432x288 with 1 Axes>"
      ]
     },
     "metadata": {
      "needs_background": "light"
     },
     "output_type": "display_data"
    },
    {
     "data": {
      "image/png": "[encoded data removed]",
      "text/plain": [
       "<Figure size 432x288 with 1 Axes>"
      ]
     },
     "metadata": {
      "needs_background": "light"
     },
     "output_type": "display_data"
    },
    {
     "data": {
      "image/png": "[encoded data removed]",
      "text/plain": [
       "<Figure size 432x288 with 1 Axes>"
      ]
     },
     "metadata": {
      "needs_background": "light"
     },
     "output_type": "display_data"
    },
    {
     "data": {
      "image/png": "[encoded data removed]",
      "text/plain": [
       "<Figure size 432x288 with 1 Axes>"
      ]
     },
     "metadata": {
      "needs_background": "light"
     },
     "output_type": "display_data"
    }
   ],
   "source": [
    "# Przeżywalność pasażerów w zależności wartości zmiennych kategorycznych z podziałem na płeć\n",
    "for c in data_cat.columns[1:]:\n",
    "    sns.barplot(x=c, y='Survived', hue='Sex', data=data_cat)\n",
    "    plt.title(c)\n",
    "    plt.show()"
   ]
  },
  {
   "cell_type": "markdown",
   "metadata": {},
   "source": [
    "Analizując dane pod kątem przeżywalności wyraźnie widać, że grupą wyraźnie dominującą niezależnie od kryterium podziału jest płeć żeńska. Bierze się to z faktu, że kobiety i dzieci miały pierwszeństwo podczas opuszczania statku. Na tę chwilę można założyć, iż płeć będzie cechą determinującą wartość przewidywań niezależnie od rodzaju modelu ML."
   ]
  },
  {
   "cell_type": "markdown",
   "metadata": {},
   "source": [
    "## 3. Feature Engineering & Data Cleaning\n",
    "\n",
    "Preprocessing zbioru treningowego pod kątem modeli ML."
   ]
  },
  {
   "cell_type": "markdown",
   "metadata": {},
   "source": [
    "#### Treningowy zbiór danych (X_full):"
   ]
  },
  {
   "cell_type": "code",
   "execution_count": 14,
   "metadata": {},
   "outputs": [
    {
     "data": {
      "text/html": [
       "<div>\n",
       "<style scoped>\n",
       "    .dataframe tbody tr th:only-of-type {\n",
       "        vertical-align: middle;\n",
       "    }\n",
       "\n",
       "    .dataframe tbody tr th {\n",
       "        vertical-align: top;\n",
       "    }\n",
       "\n",
       "    .dataframe thead th {\n",
       "        text-align: right;\n",
       "    }\n",
       "</style>\n",
       "<table border=\"1\" class=\"dataframe\">\n",
       "  <thead>\n",
       "    <tr style=\"text-align: right;\">\n",
       "      <th>Ticket_category</th>\n",
       "      <th>1</th>\n",
       "      <th>2</th>\n",
       "    </tr>\n",
       "    <tr>\n",
       "      <th>Survived</th>\n",
       "      <th></th>\n",
       "      <th></th>\n",
       "    </tr>\n",
       "  </thead>\n",
       "  <tbody>\n",
       "    <tr>\n",
       "      <td>0</td>\n",
       "      <td>407</td>\n",
       "      <td>142</td>\n",
       "    </tr>\n",
       "    <tr>\n",
       "      <td>1</td>\n",
       "      <td>254</td>\n",
       "      <td>88</td>\n",
       "    </tr>\n",
       "  </tbody>\n",
       "</table>\n",
       "</div>"
      ],
      "text/plain": [
       "Ticket_category    1    2\n",
       "Survived                 \n",
       "0                407  142\n",
       "1                254   88"
      ]
     },
     "execution_count": 14,
     "metadata": {},
     "output_type": "execute_result"
    }
   ],
   "source": [
    "# Utworzono kolumnę 'Ticket_category' dzielącą bilety na trzy kategorie:\n",
    "# - 0 - jeśli symbol biletu składa się z samych liter\n",
    "# - 1 - jeśli z samych cyfr\n",
    "# - 2 - jeśli z cyfr i liter\n",
    "X_full['Ticket_category'] = X_full['Ticket'].apply(\n",
    "    lambda x: 1 if x.replace(' ', '').replace('.', '').replace('/', '').lower().isdigit() else \n",
    "    2 if x.replace(' ', '').replace('.', '').replace('/', '').lower().isalnum() else 0)\n",
    "\n",
    "# Liczba ocalałych w zależności od kategorii biletu\n",
    "pd.pivot_table(X_full, index='Survived', columns='Ticket_category', values='Ticket', aggfunc='count')"
   ]
  },
  {
   "cell_type": "code",
   "execution_count": 15,
   "metadata": {},
   "outputs": [],
   "source": [
    "# Usunięto zbędną kolumnę 'Ticket'\n",
    "X_full.drop(columns=['Ticket'], inplace=True)"
   ]
  },
  {
   "cell_type": "code",
   "execution_count": 16,
   "metadata": {},
   "outputs": [],
   "source": [
    "# Wyodrębniono tytuł pasażera na podstawie kolumny 'Name'\n",
    "X_full['Name_title'] = X_full['Name'].apply(lambda x: x.split(',')[1].split('.')[0].strip())\n",
    "\n",
    "# COUNT ENCODING\n",
    "# Zakodowano tytuł pasażera zastępując go liczbą wystąpień danego tytułu w zbiorze danych\n",
    "import category_encoders as ce\n",
    "count_enc = ce.CountEncoder() # uwtorzono Count Encoder\n",
    "\n",
    "# Zmodyfikowano cechę 'Name_title'; zmieniono nazwę kolumny dodając suffix '_count' i dołączono ją do DF\n",
    "count_encoded = count_enc.fit_transform(X_full['Name_title'])\n",
    "X_full = X_full.join(count_encoded.add_suffix(\"_count\"))\n",
    "\n",
    "# Usunięto zbędne kolumny: Name, Name_title\n",
    "X_full.drop(columns=['Name', 'Name_title'], inplace=True)"
   ]
  },
  {
   "cell_type": "code",
   "execution_count": 17,
   "metadata": {},
   "outputs": [],
   "source": [
    "# ONE HOT ENCODING (OHE)\n",
    "# Zakodowano pozostałe kolumny kategoryczne (Sex i Embarked) za pomocą One Hot Encoding\n",
    "object_cols = [col for col in X_full.columns if X_full[col].dtype == \"object\"] # Kolumny kategoryczne\n",
    "\n",
    "# Kolumna 'Embarked' zawiera 2 brakujące wartości -> usunięto te 2 wiersze\n",
    "X_full.dropna(subset=['Embarked'], how='any', inplace=True)\n",
    "\n",
    "from sklearn.preprocessing import OneHotEncoder\n",
    "\n",
    "# OHE dla każdej kolumny kategorycznej\n",
    "OH_encoder = OneHotEncoder(handle_unknown='ignore', sparse=False)\n",
    "OH_cols_train = pd.DataFrame(OH_encoder.fit_transform(X_full[object_cols]))\n",
    "\n",
    "# Przywrócenie indeksów wyrzuconych automatycznie przez OHE\n",
    "OH_cols_train.index = X_full.index\n",
    "\n",
    "# Dodanie kolumn powstałych z OHE do zbioru treningowego (X_full)\n",
    "X_full = pd.concat([X_full, OH_cols_train], axis=1)\n",
    "\n",
    "# Usunięcie pierwotnych kolumn kategorycznych ze zbioru treningowego\n",
    "X_full.drop(columns=object_cols, inplace=True)"
   ]
  },
  {
   "cell_type": "code",
   "execution_count": 18,
   "metadata": {},
   "outputs": [
    {
     "name": "stderr",
     "output_type": "stream",
     "text": [
      "C:\\Users\\Maciek\\Anaconda3\\lib\\site-packages\\pandas\\core\\series.py:853: RuntimeWarning: divide by zero encountered in log\n",
      "  result = getattr(ufunc, method)(*inputs, **kwargs)\n"
     ]
    }
   ],
   "source": [
    "# Modyfikacja kolumny 'Fare' poprzez normalizację do rozkładu normalnego\n",
    "X_full['Fare_normal'] = np.log(X_full['Fare'])\n",
    "\n",
    "# Usunięcie zbędnej kolumnę 'Fare'\n",
    "X_full.drop(columns=['Fare'], inplace=True)"
   ]
  },
  {
   "cell_type": "code",
   "execution_count": 19,
   "metadata": {},
   "outputs": [],
   "source": [
    "# Zastąpienie braków w kolumnie 'Age' medianą:\n",
    "X_full['Age'] = X_full['Age'].fillna(X_full['Age'].median())"
   ]
  },
  {
   "cell_type": "code",
   "execution_count": 20,
   "metadata": {},
   "outputs": [],
   "source": [
    "# Standaryzacja cech: Age, SibSp, Parch, Name_title_count\n",
    "from sklearn.preprocessing import StandardScaler\n",
    "\n",
    "scale = StandardScaler()\n",
    "X_full[['Age', 'SibSp', 'Parch', 'Name_title_count']] = scale.fit_transform(\n",
    "    X_full[['Age', 'SibSp', 'Parch', 'Name_title_count']])"
   ]
  },
  {
   "cell_type": "markdown",
   "metadata": {},
   "source": [
    "##### Test dataset (X_test_full):"
   ]
  },
  {
   "cell_type": "code",
   "execution_count": 21,
   "metadata": {},
   "outputs": [
    {
     "name": "stderr",
     "output_type": "stream",
     "text": [
      "C:\\Users\\Maciek\\Anaconda3\\lib\\site-packages\\pandas\\core\\series.py:853: RuntimeWarning: divide by zero encountered in log\n",
      "  result = getattr(ufunc, method)(*inputs, **kwargs)\n"
     ]
    }
   ],
   "source": [
    "# Usunięcie kolumny \"Cabin\"\n",
    "X_test_full.drop(columns=['Cabin'], inplace=True)\n",
    "\n",
    "# Utworzono kolumnę 'Ticket_category' dzielącą bilety na trzy kategorie\n",
    "X_test_full['Ticket_category'] = X_test_full['Ticket'].apply(\n",
    "    lambda x: 1 if x.replace(' ', '').replace('.', '').replace('/', '').lower().isdigit() else \n",
    "    2 if x.replace(' ', '').replace('.', '').replace('/', '').lower().isalnum() else 0)\n",
    "\n",
    "# Usunięto zbędną kolumnę 'Ticket'\n",
    "X_test_full.drop(columns=['Ticket'], inplace=True)\n",
    "\n",
    "# Wyodrębniono tytuł pasażera na podstawie kolumny 'Name'\n",
    "X_test_full['Name_title'] = X_test_full['Name'].apply(lambda x: x.split(',')[1].split('.')[0].strip())\n",
    "\n",
    "# COUNT ENCODING\n",
    "# Zakodowano tytuł pasażera zastępując go liczbą wystąpień danego tytułu w zbiorze danych\n",
    "count_enc = ce.CountEncoder() # tworzymy Count Encoder\n",
    "\n",
    "# Zmodyfikowano cechę 'Name_title'; Zmieniono nazwę kolumny dodając suffix '_count' i dołączono ją do DF\n",
    "count_encoded = count_enc.fit_transform(X_test_full['Name_title'])\n",
    "X_test_full = X_test_full.join(count_encoded.add_suffix(\"_count\"))\n",
    "\n",
    "# Usunięto zbędne kolumny: Name, Name_title\n",
    "X_test_full.drop(columns=['Name', 'Name_title'], inplace=True)\n",
    "\n",
    "# ONE HOT ENCODING\n",
    "# Zakodowano pozostałe kolumny kategoryczne (Sex i Embarked) za pomocą One Hot Encoding\n",
    "object_cols = [col for col in X_test_full.columns if X_test_full[col].dtype == \"object\"] # Kolumny kategoryczne\n",
    "\n",
    "# Kolumna 'Embarked' zawiera 2 brakujące wartości -> usunięto te 2 wiersze\n",
    "X_test_full.dropna(subset=['Embarked'], how='any', inplace=True)\n",
    "\n",
    "from sklearn.preprocessing import OneHotEncoder\n",
    "\n",
    "# OHE dla każdej kolumny kategorycznej\n",
    "OH_encoder = OneHotEncoder(handle_unknown='ignore', sparse=False)\n",
    "OH_cols_train = pd.DataFrame(OH_encoder.fit_transform(X_test_full[object_cols]))\n",
    "\n",
    "# Przywrócenie indeksów wyrzuconych automatycznie przez OHE\n",
    "OH_cols_train.index = X_test_full.index\n",
    "\n",
    "# Dodanie kolumn powstałych z OHE do zbioru treningowego (X_full)\n",
    "X_test_full = pd.concat([X_test_full, OH_cols_train], axis=1)\n",
    "\n",
    "# Usunięcie pierwotnych kolumn kategorycznych ze zbioru treningowego\n",
    "X_test_full.drop(columns=object_cols, inplace=True)\n",
    "\n",
    "# Modyfikacja kolumny 'Fare' poprzez normalizację do rozkładu normalnego\n",
    "X_test_full['Fare_normal'] = np.log(X_test_full['Fare'])\n",
    "\n",
    "# Usuwnięcie zbędną kolumnę 'Fare'\n",
    "X_test_full.drop(columns=['Fare'], inplace=True)\n",
    "\n",
    "# Zastąpienie braków w kolumnie 'Age' medianą:\n",
    "X_test_full['Age'] = X_test_full['Age'].fillna(X_test_full['Age'].median())\n",
    "\n",
    "# Standaryzacja cech: Age, SibSp, Parch, Name_title_count\n",
    "from sklearn.preprocessing import StandardScaler\n",
    "\n",
    "scale = StandardScaler()\n",
    "X_test_full[['Age', 'SibSp', 'Parch', 'Name_title_count']] = scale.fit_transform(\n",
    "    X_test_full[['Age', 'SibSp', 'Parch', 'Name_title_count']])"
   ]
  },
  {
   "cell_type": "markdown",
   "metadata": {},
   "source": [
    "## 4. Model building: K-Fold Cross Validation"
   ]
  },
  {
   "cell_type": "code",
   "execution_count": 22,
   "metadata": {},
   "outputs": [],
   "source": [
    "X_train = X_full.drop(columns=['Survived'])\n",
    "y_train = X_full['Survived']"
   ]
  },
  {
   "cell_type": "code",
   "execution_count": 23,
   "metadata": {},
   "outputs": [],
   "source": [
    "# Moduł Sklearn dokonuje \"w tle\" konwersji typów danych na 'float32' co może być źródłem problemów, ponieważ czasem ma \n",
    "# miejsce konwersja na wartości nieskończone (infinite values), które nasz model traktuje jak NaN. W celu uniknięcia\n",
    "# związanych z tym błędów (ValueError) dokonano konwersji ręcznej na typ 'float32' a następnie zastąpiono wszystkie możliwe\n",
    "# NaN przez wartość 0 (ustawienie domyślne) oraz wszystkie wartości \"infinite\" przez największą możliwą skończoną wartość \n",
    "# zmiennoprzecinkową (largest finite floating point value) dla typu 'float32'\n",
    "\n",
    "X_train = np.nan_to_num(X_train.astype(np.float32))\n",
    "y_train = np.nan_to_num(y_train.astype(np.float32))"
   ]
  },
  {
   "cell_type": "code",
   "execution_count": 24,
   "metadata": {},
   "outputs": [
    {
     "name": "stderr",
     "output_type": "stream",
     "text": [
      "C:\\Users\\Maciek\\Anaconda3\\lib\\site-packages\\sklearn\\ensemble\\forest.py:245: FutureWarning: The default value of n_estimators will change from 10 in version 0.20 to 100 in 0.22.\n",
      "  \"10 in version 0.20 to 100 in 0.22.\", FutureWarning)\n",
      "C:\\Users\\Maciek\\Anaconda3\\lib\\site-packages\\sklearn\\ensemble\\forest.py:245: FutureWarning: The default value of n_estimators will change from 10 in version 0.20 to 100 in 0.22.\n",
      "  \"10 in version 0.20 to 100 in 0.22.\", FutureWarning)\n",
      "C:\\Users\\Maciek\\Anaconda3\\lib\\site-packages\\sklearn\\ensemble\\forest.py:245: FutureWarning: The default value of n_estimators will change from 10 in version 0.20 to 100 in 0.22.\n",
      "  \"10 in version 0.20 to 100 in 0.22.\", FutureWarning)\n",
      "C:\\Users\\Maciek\\Anaconda3\\lib\\site-packages\\sklearn\\ensemble\\forest.py:245: FutureWarning: The default value of n_estimators will change from 10 in version 0.20 to 100 in 0.22.\n",
      "  \"10 in version 0.20 to 100 in 0.22.\", FutureWarning)\n",
      "C:\\Users\\Maciek\\Anaconda3\\lib\\site-packages\\sklearn\\ensemble\\forest.py:245: FutureWarning: The default value of n_estimators will change from 10 in version 0.20 to 100 in 0.22.\n",
      "  \"10 in version 0.20 to 100 in 0.22.\", FutureWarning)\n",
      "C:\\Users\\Maciek\\Anaconda3\\lib\\site-packages\\sklearn\\svm\\base.py:193: FutureWarning: The default value of gamma will change from 'auto' to 'scale' in version 0.22 to account better for unscaled features. Set gamma explicitly to 'auto' or 'scale' to avoid this warning.\n",
      "  \"avoid this warning.\", FutureWarning)\n",
      "C:\\Users\\Maciek\\Anaconda3\\lib\\site-packages\\sklearn\\svm\\base.py:193: FutureWarning: The default value of gamma will change from 'auto' to 'scale' in version 0.22 to account better for unscaled features. Set gamma explicitly to 'auto' or 'scale' to avoid this warning.\n",
      "  \"avoid this warning.\", FutureWarning)\n",
      "C:\\Users\\Maciek\\Anaconda3\\lib\\site-packages\\sklearn\\svm\\base.py:193: FutureWarning: The default value of gamma will change from 'auto' to 'scale' in version 0.22 to account better for unscaled features. Set gamma explicitly to 'auto' or 'scale' to avoid this warning.\n",
      "  \"avoid this warning.\", FutureWarning)\n",
      "C:\\Users\\Maciek\\Anaconda3\\lib\\site-packages\\sklearn\\svm\\base.py:193: FutureWarning: The default value of gamma will change from 'auto' to 'scale' in version 0.22 to account better for unscaled features. Set gamma explicitly to 'auto' or 'scale' to avoid this warning.\n",
      "  \"avoid this warning.\", FutureWarning)\n",
      "C:\\Users\\Maciek\\Anaconda3\\lib\\site-packages\\sklearn\\svm\\base.py:193: FutureWarning: The default value of gamma will change from 'auto' to 'scale' in version 0.22 to account better for unscaled features. Set gamma explicitly to 'auto' or 'scale' to avoid this warning.\n",
      "  \"avoid this warning.\", FutureWarning)\n"
     ]
    },
    {
     "name": "stdout",
     "output_type": "stream",
     "text": [
      "Model_1:  0.7862756300387229\n",
      "Model_2:  0.8121119786707294\n",
      "Model_3:  0.7997587761061385\n",
      "Model_4:  0.8233860217101505\n"
     ]
    }
   ],
   "source": [
    "from sklearn.model_selection import KFold, cross_val_score\n",
    "from sklearn.tree import DecisionTreeClassifier\n",
    "from sklearn.ensemble import RandomForestClassifier\n",
    "from sklearn.neighbors import KNeighborsClassifier\n",
    "from sklearn.svm import SVC\n",
    "\n",
    "# Modele o domyślnych ustawieniach parametrów\n",
    "model_1 = DecisionTreeClassifier(random_state=1)\n",
    "model_2 = RandomForestClassifier(random_state=1)\n",
    "model_3 = KNeighborsClassifier()\n",
    "model_4 = SVC(probability=True)\n",
    "\n",
    "models = [model_1, model_2, model_3, model_4]\n",
    "\n",
    "kf = KFold(n_splits=5, shuffle=True, random_state=1)\n",
    "\n",
    "# Ocena jakości modeli\n",
    "cv_1 = cross_val_score(model_1, X_train, y_train, cv=kf)\n",
    "cv_2 = cross_val_score(model_2, X_train, y_train, cv=kf)\n",
    "cv_3 = cross_val_score(model_3, X_train, y_train, cv=kf)\n",
    "cv_4 = cross_val_score(model_4, X_train, y_train, cv=kf)\n",
    "\n",
    "print(\"Model_1: \", cv_1.mean())\n",
    "print(\"Model_2: \", cv_2.mean())\n",
    "print(\"Model_3: \", cv_3.mean())\n",
    "print(\"Model_4: \", cv_4.mean())"
   ]
  },
  {
   "cell_type": "markdown",
   "metadata": {},
   "source": [
    "#### Wnioski:\n",
    "\n",
    "Dla domyślnych parametrów modeli najlepszą jakość przewidywań uzyskał model oparty na algorytmie SVC ( _Support Vector Classifier_ )."
   ]
  },
  {
   "cell_type": "markdown",
   "metadata": {},
   "source": [
    "## 5. Parameters Tuning\n",
    "\n",
    "Poprawa wydajności powyższych modeli poprzez dostrojenie ich parametrów."
   ]
  },
  {
   "cell_type": "code",
   "execution_count": 26,
   "metadata": {},
   "outputs": [
    {
     "name": "stderr",
     "output_type": "stream",
     "text": [
      "C:\\Users\\Maciek\\Anaconda3\\lib\\site-packages\\sklearn\\model_selection\\_split.py:1978: FutureWarning: The default value of cv will change from 3 to 5 in version 0.22. Specify it explicitly to silence this warning.\n",
      "  warnings.warn(CV_WARNING, FutureWarning)\n"
     ]
    },
    {
     "name": "stdout",
     "output_type": "stream",
     "text": [
      "0.8031857615190949\n"
     ]
    },
    {
     "data": {
      "text/plain": [
       "{'class_weight': None,\n",
       " 'criterion': 'entropy',\n",
       " 'max_depth': 5,\n",
       " 'max_features': None,\n",
       " 'max_leaf_nodes': 50,\n",
       " 'min_impurity_decrease': 0.0,\n",
       " 'min_impurity_split': None,\n",
       " 'min_samples_leaf': 1,\n",
       " 'min_samples_split': 2,\n",
       " 'min_weight_fraction_leaf': 0.0,\n",
       " 'presort': False,\n",
       " 'random_state': 1,\n",
       " 'splitter': 'best'}"
      ]
     },
     "execution_count": 26,
     "metadata": {},
     "output_type": "execute_result"
    }
   ],
   "source": [
    "from sklearn.model_selection import GridSearchCV\n",
    "\n",
    "# DECISION TREE CLASSIFIER (model_1)\n",
    "# określenie możliwych wartości hiperparametrów\n",
    "params_model_1 = {\"criterion\": [\"gini\", \"entropy\"], \n",
    "                  \"max_leaf_nodes\": [5, 50, 100, 200],\n",
    "                  \"splitter\": [\"best\", \"random\"],\n",
    "                  \"max_depth\": [3, 5, 7, 10],\n",
    "                  \"min_samples_split\": [2, 4, 6, 8]}\n",
    "\n",
    "gridsearch_model_1 = GridSearchCV(model_1, param_grid=params_model_1, cv=kf, verbose=0)\n",
    "\n",
    "# Zagnieżdżony sprawdzian krzyżowy dla sprawdzenia jakości najlepszego modelu\n",
    "quality_model_1 = cross_val_score(gridsearch_model_1, X_train, y_train).mean()\n",
    "print(quality_model_1)\n",
    "\n",
    "# Wydobycie parametrów dla najlepszego modelu\n",
    "best_model_1 = gridsearch_model_1.fit(X_train, y_train)\n",
    "best_model_1.best_estimator_.get_params()"
   ]
  },
  {
   "cell_type": "markdown",
   "metadata": {},
   "source": [
    "#### Wniosek:\n",
    "\n",
    "Po dostrojeniu wybranych parametrów jakość przewidywań modelu opartego o algorytm Drzew Decyzyjnych (model_1) **wzrosła** z _0.7863_ do _0.8032_."
   ]
  },
  {
   "cell_type": "code",
   "execution_count": 33,
   "metadata": {},
   "outputs": [
    {
     "name": "stderr",
     "output_type": "stream",
     "text": [
      "C:\\Users\\Maciek\\Anaconda3\\lib\\site-packages\\sklearn\\model_selection\\_split.py:1978: FutureWarning: The default value of cv will change from 3 to 5 in version 0.22. Specify it explicitly to silence this warning.\n",
      "  warnings.warn(CV_WARNING, FutureWarning)\n"
     ]
    },
    {
     "name": "stdout",
     "output_type": "stream",
     "text": [
      "0.8245328661995329\n"
     ]
    },
    {
     "data": {
      "text/plain": [
       "{'bootstrap': True,\n",
       " 'class_weight': None,\n",
       " 'criterion': 'entropy',\n",
       " 'max_depth': 5,\n",
       " 'max_features': 'auto',\n",
       " 'max_leaf_nodes': None,\n",
       " 'min_impurity_decrease': 0.0,\n",
       " 'min_impurity_split': None,\n",
       " 'min_samples_leaf': 1,\n",
       " 'min_samples_split': 2,\n",
       " 'min_weight_fraction_leaf': 0.0,\n",
       " 'n_estimators': 100,\n",
       " 'n_jobs': None,\n",
       " 'oob_score': False,\n",
       " 'random_state': 1,\n",
       " 'verbose': 0,\n",
       " 'warm_start': False}"
      ]
     },
     "execution_count": 33,
     "metadata": {},
     "output_type": "execute_result"
    }
   ],
   "source": [
    "# RANDOM FOREST CLASSIFIER (model_2)\n",
    "params_model_2 = {\"n_estimators\": [100, 200],\n",
    "                 \"max_depth\": [5, 6],\n",
    "                 \"criterion\": [\"gini\", \"entropy\"]}\n",
    "\n",
    "gridsearch_model_2 = GridSearchCV(model_2, param_grid=params_model_2, cv=kf, verbose=0, n_jobs=-1)\n",
    "\n",
    "# Zagnieżdżony sprawdzian krzyżowy dla sprawdzenia jakości najlepszego modelu\n",
    "quality_model_2 = cross_val_score(gridsearch_model_2, X_train, y_train).mean()\n",
    "print(quality_model_2)\n",
    "\n",
    "# Wydobycie parametrów dla najlepszego modelu\n",
    "best_model_2 = gridsearch_model_2.fit(X_train, y_train)\n",
    "best_model_2.best_estimator_.get_params()"
   ]
  },
  {
   "cell_type": "markdown",
   "metadata": {},
   "source": [
    "#### Wniosek:\n",
    "\n",
    "Po dostrojeniu wybranych parametrów jakość przewidywań modelu opartego o algorytm Lasów Losowych (model_2) **wzrosła** z _0.8121_ do _0.8245_."
   ]
  },
  {
   "cell_type": "code",
   "execution_count": 29,
   "metadata": {},
   "outputs": [
    {
     "name": "stderr",
     "output_type": "stream",
     "text": [
      "C:\\Users\\Maciek\\Anaconda3\\lib\\site-packages\\sklearn\\model_selection\\_split.py:1978: FutureWarning: The default value of cv will change from 3 to 5 in version 0.22. Specify it explicitly to silence this warning.\n",
      "  warnings.warn(CV_WARNING, FutureWarning)\n"
     ]
    },
    {
     "name": "stdout",
     "output_type": "stream",
     "text": [
      "0.7986736736736737\n"
     ]
    },
    {
     "data": {
      "text/plain": [
       "{'algorithm': 'brute',\n",
       " 'leaf_size': 30,\n",
       " 'metric': 'minkowski',\n",
       " 'metric_params': None,\n",
       " 'n_jobs': None,\n",
       " 'n_neighbors': 7,\n",
       " 'p': 2,\n",
       " 'weights': 'uniform'}"
      ]
     },
     "execution_count": 29,
     "metadata": {},
     "output_type": "execute_result"
    }
   ],
   "source": [
    "# K-NEIGHBORS CLASSIFIER\n",
    "params_model_3 = {\"n_neighbors\": [3, 5, 7, 9],\n",
    "                  \"weights\": [\"uniform\", \"distance\"],\n",
    "                  \"algorithm\": [\"auto\", \"ball_tree\", \"kd_tree\", \"brute\"]}\n",
    "\n",
    "gridsearch_model_3 = GridSearchCV(model_3, param_grid=params_model_3, cv=kf, verbose=0, n_jobs=-1)\n",
    "\n",
    "# Zagnieżdżony sprawdzian krzyżowy dla sprawdzenia jakości najlepszego modelu\n",
    "quality_model_3 = cross_val_score(gridsearch_model_3, X_train, y_train).mean()\n",
    "print(quality_model_3)\n",
    "\n",
    "# Wydobycie parametrów dla najlepszego modelu\n",
    "best_model_3 = gridsearch_model_3.fit(X_train, y_train)\n",
    "best_model_3.best_estimator_.get_params()"
   ]
  },
  {
   "cell_type": "markdown",
   "metadata": {},
   "source": [
    "#### Wniosek:\n",
    "\n",
    "Co ciekawe, po dostrojeniu wybranych parametrów jakość przewidywań modelu opartego o algorytm K-Najbliższych Sąsiadów (model_3) **nieznacznie spadła** z _0.7998_ do _0.7987_."
   ]
  },
  {
   "cell_type": "code",
   "execution_count": 31,
   "metadata": {},
   "outputs": [
    {
     "name": "stderr",
     "output_type": "stream",
     "text": [
      "C:\\Users\\Maciek\\Anaconda3\\lib\\site-packages\\sklearn\\model_selection\\_split.py:1978: FutureWarning: The default value of cv will change from 3 to 5 in version 0.22. Specify it explicitly to silence this warning.\n",
      "  warnings.warn(CV_WARNING, FutureWarning)\n"
     ]
    },
    {
     "name": "stdout",
     "output_type": "stream",
     "text": [
      "0.8245328661995329\n"
     ]
    },
    {
     "data": {
      "text/plain": [
       "{'C': 1.0,\n",
       " 'cache_size': 200,\n",
       " 'class_weight': None,\n",
       " 'coef0': 0.0,\n",
       " 'decision_function_shape': 'ovr',\n",
       " 'degree': 3,\n",
       " 'gamma': 'auto',\n",
       " 'kernel': 'rbf',\n",
       " 'max_iter': -1,\n",
       " 'probability': True,\n",
       " 'random_state': None,\n",
       " 'shrinking': True,\n",
       " 'tol': 0.001,\n",
       " 'verbose': False}"
      ]
     },
     "execution_count": 31,
     "metadata": {},
     "output_type": "execute_result"
    }
   ],
   "source": [
    "# SVC\n",
    "params_model_4 = {\"kernel\": [\"linear\", \"poly\", \"rbf\", \"sigmoid\"],\n",
    "                  \"gamma\": [\"scale\", \"auto\"]}\n",
    "\n",
    "gridsearch_model_4 = GridSearchCV(model_4, param_grid=params_model_4, cv=kf, verbose=0, n_jobs=-1)\n",
    "\n",
    "# Zagnieżdżony sprawdzian krzyżowy dla sprawdzenia jakości najlepszego modelu\n",
    "quality_model_4 = cross_val_score(gridsearch_model_4, X_train, y_train).mean()\n",
    "print(quality_model_4)\n",
    "\n",
    "# Wydobycie parametrów dla najlepszego modelu\n",
    "best_model_4 = gridsearch_model_4.fit(X_train, y_train)\n",
    "best_model_4.best_estimator_.get_params()"
   ]
  },
  {
   "cell_type": "markdown",
   "metadata": {},
   "source": [
    "#### Wniosek:\n",
    "\n",
    "Po dostrojeniu wybranych parametrów jakość przewidywań modelu opartego o algorytm SVC (model_4) **nieznacznie wzrosła** z _0.8234_ do _0.8245_."
   ]
  },
  {
   "cell_type": "markdown",
   "metadata": {},
   "source": [
    "## 6. Insights From Models"
   ]
  },
  {
   "cell_type": "code",
   "execution_count": null,
   "metadata": {},
   "outputs": [],
   "source": []
  },
  {
   "cell_type": "code",
   "execution_count": null,
   "metadata": {},
   "outputs": [],
   "source": []
  },
  {
   "cell_type": "markdown",
   "metadata": {},
   "source": [
    "## 7. Test Dataset Prediction"
   ]
  },
  {
   "cell_type": "code",
   "execution_count": null,
   "metadata": {},
   "outputs": [],
   "source": []
  },
  {
   "cell_type": "code",
   "execution_count": null,
   "metadata": {},
   "outputs": [],
   "source": [
    "# trenowanie modelu opartego o który model????????????\n",
    "final_training = model_4.fit(X_train, y_train)"
   ]
  },
  {
   "cell_type": "code",
   "execution_count": null,
   "metadata": {},
   "outputs": [],
   "source": [
    "# Kopia zbioru testowego oraz pozbycie się potencjalnych wartości nieskończonych\n",
    "test = X_test_full.copy()\n",
    "test = np.nan_to_num(test.astype(np.float32))\n",
    "\n",
    "# Predykcja dla zbioru testowego\n",
    "test_preds = final_training.predict(test).astype(int)\n",
    "\n",
    "# Przywrócenie zbioru 'test' do postaci DF\n",
    "test = pd.DataFrame(test, index=X_test_full.index, columns=X_test_full.columns)\n",
    "\n",
    "# Utworzenie DF dla wyników przewidywań\n",
    "results = {'PassengerId': test.index, 'Survived': test_preds}\n",
    "results = pd.DataFrame(data=results)\n",
    "results.head()"
   ]
  },
  {
   "cell_type": "markdown",
   "metadata": {},
   "source": [
    "## 8. Results"
   ]
  },
  {
   "cell_type": "code",
   "execution_count": null,
   "metadata": {},
   "outputs": [],
   "source": []
  },
  {
   "cell_type": "code",
   "execution_count": null,
   "metadata": {},
   "outputs": [],
   "source": []
  }
 ],
 "metadata": {
  "kernelspec": {
   "display_name": "Python 3",
   "language": "python",
   "name": "python3"
  },
  "language_info": {
   "codemirror_mode": {
    "name": "ipython",
    "version": 3
   },
   "file_extension": ".py",
   "mimetype": "text/x-python",
   "name": "python",
   "nbconvert_exporter": "python",
   "pygments_lexer": "ipython3",
   "version": "3.7.4"
  }
 },
 "nbformat": 4,
 "nbformat_minor": 2
}
